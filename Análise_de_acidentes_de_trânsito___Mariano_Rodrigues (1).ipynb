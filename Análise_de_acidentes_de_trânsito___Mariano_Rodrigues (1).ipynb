{
  "nbformat": 4,
  "nbformat_minor": 0,
  "metadata": {
    "colab": {
      "name": "Análise de acidentes de trânsito _ Mariano Rodrigues  ",
      "provenance": []
    },
    "kernelspec": {
      "name": "python3",
      "display_name": "Python 3"
    },
    "language_info": {
      "name": "python"
    }
  },
  "cells": [
    {
      "cell_type": "markdown",
      "source": [
        "#UFPB\n",
        "\n",
        "##Trabalho de Conclusão de Disciplina\n",
        "\n",
        "### Aluno: **Mariano Rodrigues da Silva Neto** \n",
        "\n",
        "### Curso: Ciências Atuariais \n",
        "\n",
        "### Grupo de Dados relativo a acidentes de mortos e feridos no trânsito da Catalunha   "
      ],
      "metadata": {
        "id": "Rtg1_R7nDs8j"
      }
    },
    {
      "cell_type": "markdown",
      "source": [
        "# Introdução \n",
        "\n"
      ],
      "metadata": {
        "id": "FhXRi5DqIggD"
      }
    },
    {
      "cell_type": "markdown",
      "source": [
        "O presente relatório tem o seguinte tema:\n",
        "\n",
        "** Estatísticas descritiva das medidas de dispersões do número de vítimas no trânsito da (Catalunha 2010/20**\n",
        "\n",
        "Para isso, utilizou o base de dados os passageiros do titanic presente no kaggle (https://www.kaggle.com/datasets/jordigarciacastillon/road-traffic-injuries-deaths-catalonia-201020). \n",
        "\n",
        "Dessa forma, o objetivo desse relatório é responder as seguintes perguntas:\n",
        "\n",
        "\n",
        "*  Como estão as medidas de dispersão das vítimas no trânsito da Catalunha,"
      ],
      "metadata": {
        "id": "mFRXX4xsSzUj"
      }
    },
    {
      "cell_type": "markdown",
      "source": [
        "# Desenvolvimento"
      ],
      "metadata": {
        "id": "752VcMAaTexZ"
      }
    },
    {
      "cell_type": "markdown",
      "source": [
        "##Leitura do banco de dados e primeiras observações"
      ],
      "metadata": {
        "id": "GADal13xtBz2"
      }
    },
    {
      "cell_type": "code",
      "source": [
        "#Importar as bibliotecas que serão utilizadas\n",
        "import pandas as pd \n",
        "import matplotlib.pyplot as plt\n",
        "import seaborn as sns"
      ],
      "metadata": {
        "id": "sHpweKMxtZjB"
      },
      "execution_count": 1,
      "outputs": []
    },
    {
      "cell_type": "code",
      "source": [
        "#Ler um arquivo em formato xlsx e salvar na variavel dados \n",
        "dados = pd.read_excel('amvc.xlsx')"
      ],
      "metadata": {
        "id": "f_yRdhLdte1M"
      },
      "execution_count": 2,
      "outputs": []
    },
    {
      "cell_type": "code",
      "source": [
        "#Ler as informações de cima do banco de dados\n",
        "dados.head()"
      ],
      "metadata": {
        "colab": {
          "base_uri": "https://localhost:8080/",
          "height": 374
        },
        "id": "fNxaB7fdtybW",
        "outputId": "9d487497-1b35-4567-d427-518a1460f22c"
      },
      "execution_count": 3,
      "outputs": [
        {
          "output_type": "execute_result",
          "data": {
            "text/plain": [
              "    Any        dat                nomMun     nomDem  F_MORTS  F_FERITS_GREUS  \\\n",
              "0  2010 2010-01-25     CANOVES I SAMALUS  Barcelona        0               1   \n",
              "1  2010 2010-10-31                LLEIDA     Lleida        0               1   \n",
              "2  2010 2010-05-17  FORNELLS DE LA SELVA     Girona        1               0   \n",
              "3  2010 2010-08-21             BARCELONA  Barcelona        0               2   \n",
              "4  2010 2010-05-07              BADALONA  Barcelona        0               1   \n",
              "\n",
              "   F_FERITS_LLEUS  F_VICTIMES  F_BICICLETES_IMPLICADES  \\\n",
              "0               0           1                        0   \n",
              "1               3           4                        0   \n",
              "2               2           3                        0   \n",
              "3               7           9                        0   \n",
              "4               0           1                        0   \n",
              "\n",
              "   F_MOTOCICLETES_IMPLICADES  C_VELOCITAT_VIA  \n",
              "0                          0            100.0  \n",
              "1                          0             40.0  \n",
              "2                          0             80.0  \n",
              "3                          0            100.0  \n",
              "4                          1            100.0  "
            ],
            "text/html": [
              "\n",
              "  <div id=\"df-fe756bdf-cbc0-4ca6-b100-d20a932c599f\">\n",
              "    <div class=\"colab-df-container\">\n",
              "      <div>\n",
              "<style scoped>\n",
              "    .dataframe tbody tr th:only-of-type {\n",
              "        vertical-align: middle;\n",
              "    }\n",
              "\n",
              "    .dataframe tbody tr th {\n",
              "        vertical-align: top;\n",
              "    }\n",
              "\n",
              "    .dataframe thead th {\n",
              "        text-align: right;\n",
              "    }\n",
              "</style>\n",
              "<table border=\"1\" class=\"dataframe\">\n",
              "  <thead>\n",
              "    <tr style=\"text-align: right;\">\n",
              "      <th></th>\n",
              "      <th>Any</th>\n",
              "      <th>dat</th>\n",
              "      <th>nomMun</th>\n",
              "      <th>nomDem</th>\n",
              "      <th>F_MORTS</th>\n",
              "      <th>F_FERITS_GREUS</th>\n",
              "      <th>F_FERITS_LLEUS</th>\n",
              "      <th>F_VICTIMES</th>\n",
              "      <th>F_BICICLETES_IMPLICADES</th>\n",
              "      <th>F_MOTOCICLETES_IMPLICADES</th>\n",
              "      <th>C_VELOCITAT_VIA</th>\n",
              "    </tr>\n",
              "  </thead>\n",
              "  <tbody>\n",
              "    <tr>\n",
              "      <th>0</th>\n",
              "      <td>2010</td>\n",
              "      <td>2010-01-25</td>\n",
              "      <td>CANOVES I SAMALUS</td>\n",
              "      <td>Barcelona</td>\n",
              "      <td>0</td>\n",
              "      <td>1</td>\n",
              "      <td>0</td>\n",
              "      <td>1</td>\n",
              "      <td>0</td>\n",
              "      <td>0</td>\n",
              "      <td>100.0</td>\n",
              "    </tr>\n",
              "    <tr>\n",
              "      <th>1</th>\n",
              "      <td>2010</td>\n",
              "      <td>2010-10-31</td>\n",
              "      <td>LLEIDA</td>\n",
              "      <td>Lleida</td>\n",
              "      <td>0</td>\n",
              "      <td>1</td>\n",
              "      <td>3</td>\n",
              "      <td>4</td>\n",
              "      <td>0</td>\n",
              "      <td>0</td>\n",
              "      <td>40.0</td>\n",
              "    </tr>\n",
              "    <tr>\n",
              "      <th>2</th>\n",
              "      <td>2010</td>\n",
              "      <td>2010-05-17</td>\n",
              "      <td>FORNELLS DE LA SELVA</td>\n",
              "      <td>Girona</td>\n",
              "      <td>1</td>\n",
              "      <td>0</td>\n",
              "      <td>2</td>\n",
              "      <td>3</td>\n",
              "      <td>0</td>\n",
              "      <td>0</td>\n",
              "      <td>80.0</td>\n",
              "    </tr>\n",
              "    <tr>\n",
              "      <th>3</th>\n",
              "      <td>2010</td>\n",
              "      <td>2010-08-21</td>\n",
              "      <td>BARCELONA</td>\n",
              "      <td>Barcelona</td>\n",
              "      <td>0</td>\n",
              "      <td>2</td>\n",
              "      <td>7</td>\n",
              "      <td>9</td>\n",
              "      <td>0</td>\n",
              "      <td>0</td>\n",
              "      <td>100.0</td>\n",
              "    </tr>\n",
              "    <tr>\n",
              "      <th>4</th>\n",
              "      <td>2010</td>\n",
              "      <td>2010-05-07</td>\n",
              "      <td>BADALONA</td>\n",
              "      <td>Barcelona</td>\n",
              "      <td>0</td>\n",
              "      <td>1</td>\n",
              "      <td>0</td>\n",
              "      <td>1</td>\n",
              "      <td>0</td>\n",
              "      <td>1</td>\n",
              "      <td>100.0</td>\n",
              "    </tr>\n",
              "  </tbody>\n",
              "</table>\n",
              "</div>\n",
              "      <button class=\"colab-df-convert\" onclick=\"convertToInteractive('df-fe756bdf-cbc0-4ca6-b100-d20a932c599f')\"\n",
              "              title=\"Convert this dataframe to an interactive table.\"\n",
              "              style=\"display:none;\">\n",
              "        \n",
              "  <svg xmlns=\"http://www.w3.org/2000/svg\" height=\"24px\"viewBox=\"0 0 24 24\"\n",
              "       width=\"24px\">\n",
              "    <path d=\"M0 0h24v24H0V0z\" fill=\"none\"/>\n",
              "    <path d=\"M18.56 5.44l.94 2.06.94-2.06 2.06-.94-2.06-.94-.94-2.06-.94 2.06-2.06.94zm-11 1L8.5 8.5l.94-2.06 2.06-.94-2.06-.94L8.5 2.5l-.94 2.06-2.06.94zm10 10l.94 2.06.94-2.06 2.06-.94-2.06-.94-.94-2.06-.94 2.06-2.06.94z\"/><path d=\"M17.41 7.96l-1.37-1.37c-.4-.4-.92-.59-1.43-.59-.52 0-1.04.2-1.43.59L10.3 9.45l-7.72 7.72c-.78.78-.78 2.05 0 2.83L4 21.41c.39.39.9.59 1.41.59.51 0 1.02-.2 1.41-.59l7.78-7.78 2.81-2.81c.8-.78.8-2.07 0-2.86zM5.41 20L4 18.59l7.72-7.72 1.47 1.35L5.41 20z\"/>\n",
              "  </svg>\n",
              "      </button>\n",
              "      \n",
              "  <style>\n",
              "    .colab-df-container {\n",
              "      display:flex;\n",
              "      flex-wrap:wrap;\n",
              "      gap: 12px;\n",
              "    }\n",
              "\n",
              "    .colab-df-convert {\n",
              "      background-color: #E8F0FE;\n",
              "      border: none;\n",
              "      border-radius: 50%;\n",
              "      cursor: pointer;\n",
              "      display: none;\n",
              "      fill: #1967D2;\n",
              "      height: 32px;\n",
              "      padding: 0 0 0 0;\n",
              "      width: 32px;\n",
              "    }\n",
              "\n",
              "    .colab-df-convert:hover {\n",
              "      background-color: #E2EBFA;\n",
              "      box-shadow: 0px 1px 2px rgba(60, 64, 67, 0.3), 0px 1px 3px 1px rgba(60, 64, 67, 0.15);\n",
              "      fill: #174EA6;\n",
              "    }\n",
              "\n",
              "    [theme=dark] .colab-df-convert {\n",
              "      background-color: #3B4455;\n",
              "      fill: #D2E3FC;\n",
              "    }\n",
              "\n",
              "    [theme=dark] .colab-df-convert:hover {\n",
              "      background-color: #434B5C;\n",
              "      box-shadow: 0px 1px 3px 1px rgba(0, 0, 0, 0.15);\n",
              "      filter: drop-shadow(0px 1px 2px rgba(0, 0, 0, 0.3));\n",
              "      fill: #FFFFFF;\n",
              "    }\n",
              "  </style>\n",
              "\n",
              "      <script>\n",
              "        const buttonEl =\n",
              "          document.querySelector('#df-fe756bdf-cbc0-4ca6-b100-d20a932c599f button.colab-df-convert');\n",
              "        buttonEl.style.display =\n",
              "          google.colab.kernel.accessAllowed ? 'block' : 'none';\n",
              "\n",
              "        async function convertToInteractive(key) {\n",
              "          const element = document.querySelector('#df-fe756bdf-cbc0-4ca6-b100-d20a932c599f');\n",
              "          const dataTable =\n",
              "            await google.colab.kernel.invokeFunction('convertToInteractive',\n",
              "                                                     [key], {});\n",
              "          if (!dataTable) return;\n",
              "\n",
              "          const docLinkHtml = 'Like what you see? Visit the ' +\n",
              "            '<a target=\"_blank\" href=https://colab.research.google.com/notebooks/data_table.ipynb>data table notebook</a>'\n",
              "            + ' to learn more about interactive tables.';\n",
              "          element.innerHTML = '';\n",
              "          dataTable['output_type'] = 'display_data';\n",
              "          await google.colab.output.renderOutput(dataTable, element);\n",
              "          const docLink = document.createElement('div');\n",
              "          docLink.innerHTML = docLinkHtml;\n",
              "          element.appendChild(docLink);\n",
              "        }\n",
              "      </script>\n",
              "    </div>\n",
              "  </div>\n",
              "  "
            ]
          },
          "metadata": {},
          "execution_count": 3
        }
      ]
    },
    {
      "cell_type": "code",
      "source": [
        "#Ler as informações de baixo do banco de dados\n",
        "dados.tail()"
      ],
      "metadata": {
        "colab": {
          "base_uri": "https://localhost:8080/",
          "height": 374
        },
        "id": "Yj_eLlR0uA4B",
        "outputId": "a0689408-41fb-4572-abec-5bea64ad9761"
      },
      "execution_count": 4,
      "outputs": [
        {
          "output_type": "execute_result",
          "data": {
            "text/plain": [
              "        Any        dat                nomMun     nomDem  F_MORTS  \\\n",
              "16769  2018 2018-11-20             BARCELONA  Barcelona        0   \n",
              "16770  2018 2018-12-03  CASTELLVI DE ROSANES  Barcelona        0   \n",
              "16771  2018 2018-09-30          VENDRELL, EL  Tarragona        0   \n",
              "16772  2018 2018-04-04     VIVER I SERRATEIX  Barcelona        0   \n",
              "16773  2018 2018-04-19                MATARO  Barcelona        0   \n",
              "\n",
              "       F_FERITS_GREUS  F_FERITS_LLEUS  F_VICTIMES  F_BICICLETES_IMPLICADES  \\\n",
              "16769               1               1           2                        1   \n",
              "16770               1               0           1                        0   \n",
              "16771               1               0           1                        0   \n",
              "16772               1               0           1                        1   \n",
              "16773               1               0           1                        0   \n",
              "\n",
              "       F_MOTOCICLETES_IMPLICADES  C_VELOCITAT_VIA  \n",
              "16769                          1            100.0  \n",
              "16770                          0            100.0  \n",
              "16771                          0             40.0  \n",
              "16772                          0             50.0  \n",
              "16773                          0              NaN  "
            ],
            "text/html": [
              "\n",
              "  <div id=\"df-64ad4e39-c5c1-4c50-8431-e8b8893aa3bb\">\n",
              "    <div class=\"colab-df-container\">\n",
              "      <div>\n",
              "<style scoped>\n",
              "    .dataframe tbody tr th:only-of-type {\n",
              "        vertical-align: middle;\n",
              "    }\n",
              "\n",
              "    .dataframe tbody tr th {\n",
              "        vertical-align: top;\n",
              "    }\n",
              "\n",
              "    .dataframe thead th {\n",
              "        text-align: right;\n",
              "    }\n",
              "</style>\n",
              "<table border=\"1\" class=\"dataframe\">\n",
              "  <thead>\n",
              "    <tr style=\"text-align: right;\">\n",
              "      <th></th>\n",
              "      <th>Any</th>\n",
              "      <th>dat</th>\n",
              "      <th>nomMun</th>\n",
              "      <th>nomDem</th>\n",
              "      <th>F_MORTS</th>\n",
              "      <th>F_FERITS_GREUS</th>\n",
              "      <th>F_FERITS_LLEUS</th>\n",
              "      <th>F_VICTIMES</th>\n",
              "      <th>F_BICICLETES_IMPLICADES</th>\n",
              "      <th>F_MOTOCICLETES_IMPLICADES</th>\n",
              "      <th>C_VELOCITAT_VIA</th>\n",
              "    </tr>\n",
              "  </thead>\n",
              "  <tbody>\n",
              "    <tr>\n",
              "      <th>16769</th>\n",
              "      <td>2018</td>\n",
              "      <td>2018-11-20</td>\n",
              "      <td>BARCELONA</td>\n",
              "      <td>Barcelona</td>\n",
              "      <td>0</td>\n",
              "      <td>1</td>\n",
              "      <td>1</td>\n",
              "      <td>2</td>\n",
              "      <td>1</td>\n",
              "      <td>1</td>\n",
              "      <td>100.0</td>\n",
              "    </tr>\n",
              "    <tr>\n",
              "      <th>16770</th>\n",
              "      <td>2018</td>\n",
              "      <td>2018-12-03</td>\n",
              "      <td>CASTELLVI DE ROSANES</td>\n",
              "      <td>Barcelona</td>\n",
              "      <td>0</td>\n",
              "      <td>1</td>\n",
              "      <td>0</td>\n",
              "      <td>1</td>\n",
              "      <td>0</td>\n",
              "      <td>0</td>\n",
              "      <td>100.0</td>\n",
              "    </tr>\n",
              "    <tr>\n",
              "      <th>16771</th>\n",
              "      <td>2018</td>\n",
              "      <td>2018-09-30</td>\n",
              "      <td>VENDRELL, EL</td>\n",
              "      <td>Tarragona</td>\n",
              "      <td>0</td>\n",
              "      <td>1</td>\n",
              "      <td>0</td>\n",
              "      <td>1</td>\n",
              "      <td>0</td>\n",
              "      <td>0</td>\n",
              "      <td>40.0</td>\n",
              "    </tr>\n",
              "    <tr>\n",
              "      <th>16772</th>\n",
              "      <td>2018</td>\n",
              "      <td>2018-04-04</td>\n",
              "      <td>VIVER I SERRATEIX</td>\n",
              "      <td>Barcelona</td>\n",
              "      <td>0</td>\n",
              "      <td>1</td>\n",
              "      <td>0</td>\n",
              "      <td>1</td>\n",
              "      <td>1</td>\n",
              "      <td>0</td>\n",
              "      <td>50.0</td>\n",
              "    </tr>\n",
              "    <tr>\n",
              "      <th>16773</th>\n",
              "      <td>2018</td>\n",
              "      <td>2018-04-19</td>\n",
              "      <td>MATARO</td>\n",
              "      <td>Barcelona</td>\n",
              "      <td>0</td>\n",
              "      <td>1</td>\n",
              "      <td>0</td>\n",
              "      <td>1</td>\n",
              "      <td>0</td>\n",
              "      <td>0</td>\n",
              "      <td>NaN</td>\n",
              "    </tr>\n",
              "  </tbody>\n",
              "</table>\n",
              "</div>\n",
              "      <button class=\"colab-df-convert\" onclick=\"convertToInteractive('df-64ad4e39-c5c1-4c50-8431-e8b8893aa3bb')\"\n",
              "              title=\"Convert this dataframe to an interactive table.\"\n",
              "              style=\"display:none;\">\n",
              "        \n",
              "  <svg xmlns=\"http://www.w3.org/2000/svg\" height=\"24px\"viewBox=\"0 0 24 24\"\n",
              "       width=\"24px\">\n",
              "    <path d=\"M0 0h24v24H0V0z\" fill=\"none\"/>\n",
              "    <path d=\"M18.56 5.44l.94 2.06.94-2.06 2.06-.94-2.06-.94-.94-2.06-.94 2.06-2.06.94zm-11 1L8.5 8.5l.94-2.06 2.06-.94-2.06-.94L8.5 2.5l-.94 2.06-2.06.94zm10 10l.94 2.06.94-2.06 2.06-.94-2.06-.94-.94-2.06-.94 2.06-2.06.94z\"/><path d=\"M17.41 7.96l-1.37-1.37c-.4-.4-.92-.59-1.43-.59-.52 0-1.04.2-1.43.59L10.3 9.45l-7.72 7.72c-.78.78-.78 2.05 0 2.83L4 21.41c.39.39.9.59 1.41.59.51 0 1.02-.2 1.41-.59l7.78-7.78 2.81-2.81c.8-.78.8-2.07 0-2.86zM5.41 20L4 18.59l7.72-7.72 1.47 1.35L5.41 20z\"/>\n",
              "  </svg>\n",
              "      </button>\n",
              "      \n",
              "  <style>\n",
              "    .colab-df-container {\n",
              "      display:flex;\n",
              "      flex-wrap:wrap;\n",
              "      gap: 12px;\n",
              "    }\n",
              "\n",
              "    .colab-df-convert {\n",
              "      background-color: #E8F0FE;\n",
              "      border: none;\n",
              "      border-radius: 50%;\n",
              "      cursor: pointer;\n",
              "      display: none;\n",
              "      fill: #1967D2;\n",
              "      height: 32px;\n",
              "      padding: 0 0 0 0;\n",
              "      width: 32px;\n",
              "    }\n",
              "\n",
              "    .colab-df-convert:hover {\n",
              "      background-color: #E2EBFA;\n",
              "      box-shadow: 0px 1px 2px rgba(60, 64, 67, 0.3), 0px 1px 3px 1px rgba(60, 64, 67, 0.15);\n",
              "      fill: #174EA6;\n",
              "    }\n",
              "\n",
              "    [theme=dark] .colab-df-convert {\n",
              "      background-color: #3B4455;\n",
              "      fill: #D2E3FC;\n",
              "    }\n",
              "\n",
              "    [theme=dark] .colab-df-convert:hover {\n",
              "      background-color: #434B5C;\n",
              "      box-shadow: 0px 1px 3px 1px rgba(0, 0, 0, 0.15);\n",
              "      filter: drop-shadow(0px 1px 2px rgba(0, 0, 0, 0.3));\n",
              "      fill: #FFFFFF;\n",
              "    }\n",
              "  </style>\n",
              "\n",
              "      <script>\n",
              "        const buttonEl =\n",
              "          document.querySelector('#df-64ad4e39-c5c1-4c50-8431-e8b8893aa3bb button.colab-df-convert');\n",
              "        buttonEl.style.display =\n",
              "          google.colab.kernel.accessAllowed ? 'block' : 'none';\n",
              "\n",
              "        async function convertToInteractive(key) {\n",
              "          const element = document.querySelector('#df-64ad4e39-c5c1-4c50-8431-e8b8893aa3bb');\n",
              "          const dataTable =\n",
              "            await google.colab.kernel.invokeFunction('convertToInteractive',\n",
              "                                                     [key], {});\n",
              "          if (!dataTable) return;\n",
              "\n",
              "          const docLinkHtml = 'Like what you see? Visit the ' +\n",
              "            '<a target=\"_blank\" href=https://colab.research.google.com/notebooks/data_table.ipynb>data table notebook</a>'\n",
              "            + ' to learn more about interactive tables.';\n",
              "          element.innerHTML = '';\n",
              "          dataTable['output_type'] = 'display_data';\n",
              "          await google.colab.output.renderOutput(dataTable, element);\n",
              "          const docLink = document.createElement('div');\n",
              "          docLink.innerHTML = docLinkHtml;\n",
              "          element.appendChild(docLink);\n",
              "        }\n",
              "      </script>\n",
              "    </div>\n",
              "  </div>\n",
              "  "
            ]
          },
          "metadata": {},
          "execution_count": 4
        }
      ]
    },
    {
      "cell_type": "code",
      "source": [
        "#Informações sobre os dados\n",
        "dados.info()"
      ],
      "metadata": {
        "colab": {
          "base_uri": "https://localhost:8080/"
        },
        "id": "3jqvHAPUuEPr",
        "outputId": "83c31735-a7c6-45f3-c70e-d9063c86eb08"
      },
      "execution_count": 5,
      "outputs": [
        {
          "output_type": "stream",
          "name": "stdout",
          "text": [
            "<class 'pandas.core.frame.DataFrame'>\n",
            "RangeIndex: 16774 entries, 0 to 16773\n",
            "Data columns (total 11 columns):\n",
            " #   Column                     Non-Null Count  Dtype         \n",
            "---  ------                     --------------  -----         \n",
            " 0   Any                        16774 non-null  int64         \n",
            " 1   dat                        16774 non-null  datetime64[ns]\n",
            " 2   nomMun                     16774 non-null  object        \n",
            " 3   nomDem                     16774 non-null  object        \n",
            " 4   F_MORTS                    16774 non-null  int64         \n",
            " 5   F_FERITS_GREUS             16774 non-null  int64         \n",
            " 6   F_FERITS_LLEUS             16774 non-null  int64         \n",
            " 7   F_VICTIMES                 16774 non-null  int64         \n",
            " 8   F_BICICLETES_IMPLICADES    16774 non-null  int64         \n",
            " 9   F_MOTOCICLETES_IMPLICADES  16774 non-null  int64         \n",
            " 10  C_VELOCITAT_VIA            14654 non-null  float64       \n",
            "dtypes: datetime64[ns](1), float64(1), int64(7), object(2)\n",
            "memory usage: 1.4+ MB\n"
          ]
        }
      ]
    },
    {
      "cell_type": "markdown",
      "source": [
        "##Limpeza do banco de dados"
      ],
      "metadata": {
        "id": "0zhxbnYmtBIb"
      }
    },
    {
      "cell_type": "markdown",
      "source": [
        "#####Nesse momento o objetivo é analisar variáveis com relações nos acidentes de trânsito que envolvam bicicletas,motocicleta e as vítimas, em vistude disso , serão retiradas colunas que não colaboraram com este intuito. Desse modo, foram retiradas as colunas de data (dia/mês/ano) e nome Demográfico (relativo à região). "
      ],
      "metadata": {
        "id": "nxoPsFtHuT8R"
      }
    },
    {
      "cell_type": "code",
      "source": [
        "# Verificando se existe caso duplicado\n",
        "sum(dados.duplicated())"
      ],
      "metadata": {
        "colab": {
          "base_uri": "https://localhost:8080/"
        },
        "id": "-aJg8uJOuQkZ",
        "outputId": "55b97311-c612-41ee-ac37-b134e608df87"
      },
      "execution_count": 9,
      "outputs": [
        {
          "output_type": "execute_result",
          "data": {
            "text/plain": [
              "191"
            ]
          },
          "metadata": {},
          "execution_count": 9
        }
      ]
    },
    {
      "cell_type": "code",
      "source": [
        "# Limpar algumas colunas que não serão utilizadas: \n",
        "acidentes = dados.drop(['nomDem','dat'], axis=1)\n",
        "acidentes"
      ],
      "metadata": {
        "colab": {
          "base_uri": "https://localhost:8080/",
          "height": 609
        },
        "id": "c6UnMoYmxFLZ",
        "outputId": "6466d4f0-dc21-4453-ac9f-f279836ce740"
      },
      "execution_count": 10,
      "outputs": [
        {
          "output_type": "execute_result",
          "data": {
            "text/plain": [
              "        Any                nomMun  F_MORTS  F_FERITS_GREUS  F_FERITS_LLEUS  \\\n",
              "0      2010     CANOVES I SAMALUS        0               1               0   \n",
              "1      2010                LLEIDA        0               1               3   \n",
              "2      2010  FORNELLS DE LA SELVA        1               0               2   \n",
              "3      2010             BARCELONA        0               2               7   \n",
              "4      2010              BADALONA        0               1               0   \n",
              "...     ...                   ...      ...             ...             ...   \n",
              "16769  2018             BARCELONA        0               1               1   \n",
              "16770  2018  CASTELLVI DE ROSANES        0               1               0   \n",
              "16771  2018          VENDRELL, EL        0               1               0   \n",
              "16772  2018     VIVER I SERRATEIX        0               1               0   \n",
              "16773  2018                MATARO        0               1               0   \n",
              "\n",
              "       F_VICTIMES  F_BICICLETES_IMPLICADES  F_MOTOCICLETES_IMPLICADES  \\\n",
              "0               1                        0                          0   \n",
              "1               4                        0                          0   \n",
              "2               3                        0                          0   \n",
              "3               9                        0                          0   \n",
              "4               1                        0                          1   \n",
              "...           ...                      ...                        ...   \n",
              "16769           2                        1                          1   \n",
              "16770           1                        0                          0   \n",
              "16771           1                        0                          0   \n",
              "16772           1                        1                          0   \n",
              "16773           1                        0                          0   \n",
              "\n",
              "       C_VELOCITAT_VIA  \n",
              "0                100.0  \n",
              "1                 40.0  \n",
              "2                 80.0  \n",
              "3                100.0  \n",
              "4                100.0  \n",
              "...                ...  \n",
              "16769            100.0  \n",
              "16770            100.0  \n",
              "16771             40.0  \n",
              "16772             50.0  \n",
              "16773              NaN  \n",
              "\n",
              "[16774 rows x 9 columns]"
            ],
            "text/html": [
              "\n",
              "  <div id=\"df-cf7b8efe-97ff-41aa-873d-64e743de2a75\">\n",
              "    <div class=\"colab-df-container\">\n",
              "      <div>\n",
              "<style scoped>\n",
              "    .dataframe tbody tr th:only-of-type {\n",
              "        vertical-align: middle;\n",
              "    }\n",
              "\n",
              "    .dataframe tbody tr th {\n",
              "        vertical-align: top;\n",
              "    }\n",
              "\n",
              "    .dataframe thead th {\n",
              "        text-align: right;\n",
              "    }\n",
              "</style>\n",
              "<table border=\"1\" class=\"dataframe\">\n",
              "  <thead>\n",
              "    <tr style=\"text-align: right;\">\n",
              "      <th></th>\n",
              "      <th>Any</th>\n",
              "      <th>nomMun</th>\n",
              "      <th>F_MORTS</th>\n",
              "      <th>F_FERITS_GREUS</th>\n",
              "      <th>F_FERITS_LLEUS</th>\n",
              "      <th>F_VICTIMES</th>\n",
              "      <th>F_BICICLETES_IMPLICADES</th>\n",
              "      <th>F_MOTOCICLETES_IMPLICADES</th>\n",
              "      <th>C_VELOCITAT_VIA</th>\n",
              "    </tr>\n",
              "  </thead>\n",
              "  <tbody>\n",
              "    <tr>\n",
              "      <th>0</th>\n",
              "      <td>2010</td>\n",
              "      <td>CANOVES I SAMALUS</td>\n",
              "      <td>0</td>\n",
              "      <td>1</td>\n",
              "      <td>0</td>\n",
              "      <td>1</td>\n",
              "      <td>0</td>\n",
              "      <td>0</td>\n",
              "      <td>100.0</td>\n",
              "    </tr>\n",
              "    <tr>\n",
              "      <th>1</th>\n",
              "      <td>2010</td>\n",
              "      <td>LLEIDA</td>\n",
              "      <td>0</td>\n",
              "      <td>1</td>\n",
              "      <td>3</td>\n",
              "      <td>4</td>\n",
              "      <td>0</td>\n",
              "      <td>0</td>\n",
              "      <td>40.0</td>\n",
              "    </tr>\n",
              "    <tr>\n",
              "      <th>2</th>\n",
              "      <td>2010</td>\n",
              "      <td>FORNELLS DE LA SELVA</td>\n",
              "      <td>1</td>\n",
              "      <td>0</td>\n",
              "      <td>2</td>\n",
              "      <td>3</td>\n",
              "      <td>0</td>\n",
              "      <td>0</td>\n",
              "      <td>80.0</td>\n",
              "    </tr>\n",
              "    <tr>\n",
              "      <th>3</th>\n",
              "      <td>2010</td>\n",
              "      <td>BARCELONA</td>\n",
              "      <td>0</td>\n",
              "      <td>2</td>\n",
              "      <td>7</td>\n",
              "      <td>9</td>\n",
              "      <td>0</td>\n",
              "      <td>0</td>\n",
              "      <td>100.0</td>\n",
              "    </tr>\n",
              "    <tr>\n",
              "      <th>4</th>\n",
              "      <td>2010</td>\n",
              "      <td>BADALONA</td>\n",
              "      <td>0</td>\n",
              "      <td>1</td>\n",
              "      <td>0</td>\n",
              "      <td>1</td>\n",
              "      <td>0</td>\n",
              "      <td>1</td>\n",
              "      <td>100.0</td>\n",
              "    </tr>\n",
              "    <tr>\n",
              "      <th>...</th>\n",
              "      <td>...</td>\n",
              "      <td>...</td>\n",
              "      <td>...</td>\n",
              "      <td>...</td>\n",
              "      <td>...</td>\n",
              "      <td>...</td>\n",
              "      <td>...</td>\n",
              "      <td>...</td>\n",
              "      <td>...</td>\n",
              "    </tr>\n",
              "    <tr>\n",
              "      <th>16769</th>\n",
              "      <td>2018</td>\n",
              "      <td>BARCELONA</td>\n",
              "      <td>0</td>\n",
              "      <td>1</td>\n",
              "      <td>1</td>\n",
              "      <td>2</td>\n",
              "      <td>1</td>\n",
              "      <td>1</td>\n",
              "      <td>100.0</td>\n",
              "    </tr>\n",
              "    <tr>\n",
              "      <th>16770</th>\n",
              "      <td>2018</td>\n",
              "      <td>CASTELLVI DE ROSANES</td>\n",
              "      <td>0</td>\n",
              "      <td>1</td>\n",
              "      <td>0</td>\n",
              "      <td>1</td>\n",
              "      <td>0</td>\n",
              "      <td>0</td>\n",
              "      <td>100.0</td>\n",
              "    </tr>\n",
              "    <tr>\n",
              "      <th>16771</th>\n",
              "      <td>2018</td>\n",
              "      <td>VENDRELL, EL</td>\n",
              "      <td>0</td>\n",
              "      <td>1</td>\n",
              "      <td>0</td>\n",
              "      <td>1</td>\n",
              "      <td>0</td>\n",
              "      <td>0</td>\n",
              "      <td>40.0</td>\n",
              "    </tr>\n",
              "    <tr>\n",
              "      <th>16772</th>\n",
              "      <td>2018</td>\n",
              "      <td>VIVER I SERRATEIX</td>\n",
              "      <td>0</td>\n",
              "      <td>1</td>\n",
              "      <td>0</td>\n",
              "      <td>1</td>\n",
              "      <td>1</td>\n",
              "      <td>0</td>\n",
              "      <td>50.0</td>\n",
              "    </tr>\n",
              "    <tr>\n",
              "      <th>16773</th>\n",
              "      <td>2018</td>\n",
              "      <td>MATARO</td>\n",
              "      <td>0</td>\n",
              "      <td>1</td>\n",
              "      <td>0</td>\n",
              "      <td>1</td>\n",
              "      <td>0</td>\n",
              "      <td>0</td>\n",
              "      <td>NaN</td>\n",
              "    </tr>\n",
              "  </tbody>\n",
              "</table>\n",
              "<p>16774 rows × 9 columns</p>\n",
              "</div>\n",
              "      <button class=\"colab-df-convert\" onclick=\"convertToInteractive('df-cf7b8efe-97ff-41aa-873d-64e743de2a75')\"\n",
              "              title=\"Convert this dataframe to an interactive table.\"\n",
              "              style=\"display:none;\">\n",
              "        \n",
              "  <svg xmlns=\"http://www.w3.org/2000/svg\" height=\"24px\"viewBox=\"0 0 24 24\"\n",
              "       width=\"24px\">\n",
              "    <path d=\"M0 0h24v24H0V0z\" fill=\"none\"/>\n",
              "    <path d=\"M18.56 5.44l.94 2.06.94-2.06 2.06-.94-2.06-.94-.94-2.06-.94 2.06-2.06.94zm-11 1L8.5 8.5l.94-2.06 2.06-.94-2.06-.94L8.5 2.5l-.94 2.06-2.06.94zm10 10l.94 2.06.94-2.06 2.06-.94-2.06-.94-.94-2.06-.94 2.06-2.06.94z\"/><path d=\"M17.41 7.96l-1.37-1.37c-.4-.4-.92-.59-1.43-.59-.52 0-1.04.2-1.43.59L10.3 9.45l-7.72 7.72c-.78.78-.78 2.05 0 2.83L4 21.41c.39.39.9.59 1.41.59.51 0 1.02-.2 1.41-.59l7.78-7.78 2.81-2.81c.8-.78.8-2.07 0-2.86zM5.41 20L4 18.59l7.72-7.72 1.47 1.35L5.41 20z\"/>\n",
              "  </svg>\n",
              "      </button>\n",
              "      \n",
              "  <style>\n",
              "    .colab-df-container {\n",
              "      display:flex;\n",
              "      flex-wrap:wrap;\n",
              "      gap: 12px;\n",
              "    }\n",
              "\n",
              "    .colab-df-convert {\n",
              "      background-color: #E8F0FE;\n",
              "      border: none;\n",
              "      border-radius: 50%;\n",
              "      cursor: pointer;\n",
              "      display: none;\n",
              "      fill: #1967D2;\n",
              "      height: 32px;\n",
              "      padding: 0 0 0 0;\n",
              "      width: 32px;\n",
              "    }\n",
              "\n",
              "    .colab-df-convert:hover {\n",
              "      background-color: #E2EBFA;\n",
              "      box-shadow: 0px 1px 2px rgba(60, 64, 67, 0.3), 0px 1px 3px 1px rgba(60, 64, 67, 0.15);\n",
              "      fill: #174EA6;\n",
              "    }\n",
              "\n",
              "    [theme=dark] .colab-df-convert {\n",
              "      background-color: #3B4455;\n",
              "      fill: #D2E3FC;\n",
              "    }\n",
              "\n",
              "    [theme=dark] .colab-df-convert:hover {\n",
              "      background-color: #434B5C;\n",
              "      box-shadow: 0px 1px 3px 1px rgba(0, 0, 0, 0.15);\n",
              "      filter: drop-shadow(0px 1px 2px rgba(0, 0, 0, 0.3));\n",
              "      fill: #FFFFFF;\n",
              "    }\n",
              "  </style>\n",
              "\n",
              "      <script>\n",
              "        const buttonEl =\n",
              "          document.querySelector('#df-cf7b8efe-97ff-41aa-873d-64e743de2a75 button.colab-df-convert');\n",
              "        buttonEl.style.display =\n",
              "          google.colab.kernel.accessAllowed ? 'block' : 'none';\n",
              "\n",
              "        async function convertToInteractive(key) {\n",
              "          const element = document.querySelector('#df-cf7b8efe-97ff-41aa-873d-64e743de2a75');\n",
              "          const dataTable =\n",
              "            await google.colab.kernel.invokeFunction('convertToInteractive',\n",
              "                                                     [key], {});\n",
              "          if (!dataTable) return;\n",
              "\n",
              "          const docLinkHtml = 'Like what you see? Visit the ' +\n",
              "            '<a target=\"_blank\" href=https://colab.research.google.com/notebooks/data_table.ipynb>data table notebook</a>'\n",
              "            + ' to learn more about interactive tables.';\n",
              "          element.innerHTML = '';\n",
              "          dataTable['output_type'] = 'display_data';\n",
              "          await google.colab.output.renderOutput(dataTable, element);\n",
              "          const docLink = document.createElement('div');\n",
              "          docLink.innerHTML = docLinkHtml;\n",
              "          element.appendChild(docLink);\n",
              "        }\n",
              "      </script>\n",
              "    </div>\n",
              "  </div>\n",
              "  "
            ]
          },
          "metadata": {},
          "execution_count": 10
        }
      ]
    },
    {
      "cell_type": "markdown",
      "source": [
        "#####Foi encontrado caso duplicado, nesse caso é normal, levando em consideração o objeto de estudo, além disso, já foi realizada a retirada das colunas que não serão utilizadas, diante disso, pode-se encerrar a limpeza dos dados e começar a análise."
      ],
      "metadata": {
        "id": "D24zn_mVzqqb"
      }
    },
    {
      "cell_type": "markdown",
      "source": [
        "##Análise de dados"
      ],
      "metadata": {
        "id": "xZr3PPMks-4t"
      }
    },
    {
      "cell_type": "code",
      "source": [
        "#Estatísticas dos dados\n",
        "acidentes.describe()"
      ],
      "metadata": {
        "colab": {
          "base_uri": "https://localhost:8080/",
          "height": 364
        },
        "id": "iYBG-9uG1wWM",
        "outputId": "aebfb42e-765a-4d65-c865-3f13e9c4206b"
      },
      "execution_count": 11,
      "outputs": [
        {
          "output_type": "execute_result",
          "data": {
            "text/plain": [
              "                Any       F_MORTS  F_FERITS_GREUS  F_FERITS_LLEUS  \\\n",
              "count  16774.000000  16774.000000    16774.000000    16774.000000   \n",
              "mean    2013.897580      0.139919        1.003219        0.407535   \n",
              "std        2.567239      0.406867        0.540928        0.988399   \n",
              "min     2010.000000      0.000000        0.000000        0.000000   \n",
              "25%     2012.000000      0.000000        1.000000        0.000000   \n",
              "50%     2014.000000      0.000000        1.000000        0.000000   \n",
              "75%     2016.000000      0.000000        1.000000        0.000000   \n",
              "max     2018.000000     13.000000       23.000000       22.000000   \n",
              "\n",
              "         F_VICTIMES  F_BICICLETES_IMPLICADES  F_MOTOCICLETES_IMPLICADES  \\\n",
              "count  16774.000000             16774.000000               16774.000000   \n",
              "mean       1.550674                 0.082926                   0.392512   \n",
              "std        1.225059                 0.317953                   0.536160   \n",
              "min        1.000000                 0.000000                   0.000000   \n",
              "25%        1.000000                 0.000000                   0.000000   \n",
              "50%        1.000000                 0.000000                   0.000000   \n",
              "75%        2.000000                 0.000000                   1.000000   \n",
              "max       49.000000                 8.000000                   7.000000   \n",
              "\n",
              "       C_VELOCITAT_VIA  \n",
              "count     14654.000000  \n",
              "mean        136.754402  \n",
              "std         209.862794  \n",
              "min           0.000000  \n",
              "25%          80.000000  \n",
              "50%         100.000000  \n",
              "75%         100.000000  \n",
              "max         999.000000  "
            ],
            "text/html": [
              "\n",
              "  <div id=\"df-0d3c7738-1076-42e5-b6c6-60aa406353e3\">\n",
              "    <div class=\"colab-df-container\">\n",
              "      <div>\n",
              "<style scoped>\n",
              "    .dataframe tbody tr th:only-of-type {\n",
              "        vertical-align: middle;\n",
              "    }\n",
              "\n",
              "    .dataframe tbody tr th {\n",
              "        vertical-align: top;\n",
              "    }\n",
              "\n",
              "    .dataframe thead th {\n",
              "        text-align: right;\n",
              "    }\n",
              "</style>\n",
              "<table border=\"1\" class=\"dataframe\">\n",
              "  <thead>\n",
              "    <tr style=\"text-align: right;\">\n",
              "      <th></th>\n",
              "      <th>Any</th>\n",
              "      <th>F_MORTS</th>\n",
              "      <th>F_FERITS_GREUS</th>\n",
              "      <th>F_FERITS_LLEUS</th>\n",
              "      <th>F_VICTIMES</th>\n",
              "      <th>F_BICICLETES_IMPLICADES</th>\n",
              "      <th>F_MOTOCICLETES_IMPLICADES</th>\n",
              "      <th>C_VELOCITAT_VIA</th>\n",
              "    </tr>\n",
              "  </thead>\n",
              "  <tbody>\n",
              "    <tr>\n",
              "      <th>count</th>\n",
              "      <td>16774.000000</td>\n",
              "      <td>16774.000000</td>\n",
              "      <td>16774.000000</td>\n",
              "      <td>16774.000000</td>\n",
              "      <td>16774.000000</td>\n",
              "      <td>16774.000000</td>\n",
              "      <td>16774.000000</td>\n",
              "      <td>14654.000000</td>\n",
              "    </tr>\n",
              "    <tr>\n",
              "      <th>mean</th>\n",
              "      <td>2013.897580</td>\n",
              "      <td>0.139919</td>\n",
              "      <td>1.003219</td>\n",
              "      <td>0.407535</td>\n",
              "      <td>1.550674</td>\n",
              "      <td>0.082926</td>\n",
              "      <td>0.392512</td>\n",
              "      <td>136.754402</td>\n",
              "    </tr>\n",
              "    <tr>\n",
              "      <th>std</th>\n",
              "      <td>2.567239</td>\n",
              "      <td>0.406867</td>\n",
              "      <td>0.540928</td>\n",
              "      <td>0.988399</td>\n",
              "      <td>1.225059</td>\n",
              "      <td>0.317953</td>\n",
              "      <td>0.536160</td>\n",
              "      <td>209.862794</td>\n",
              "    </tr>\n",
              "    <tr>\n",
              "      <th>min</th>\n",
              "      <td>2010.000000</td>\n",
              "      <td>0.000000</td>\n",
              "      <td>0.000000</td>\n",
              "      <td>0.000000</td>\n",
              "      <td>1.000000</td>\n",
              "      <td>0.000000</td>\n",
              "      <td>0.000000</td>\n",
              "      <td>0.000000</td>\n",
              "    </tr>\n",
              "    <tr>\n",
              "      <th>25%</th>\n",
              "      <td>2012.000000</td>\n",
              "      <td>0.000000</td>\n",
              "      <td>1.000000</td>\n",
              "      <td>0.000000</td>\n",
              "      <td>1.000000</td>\n",
              "      <td>0.000000</td>\n",
              "      <td>0.000000</td>\n",
              "      <td>80.000000</td>\n",
              "    </tr>\n",
              "    <tr>\n",
              "      <th>50%</th>\n",
              "      <td>2014.000000</td>\n",
              "      <td>0.000000</td>\n",
              "      <td>1.000000</td>\n",
              "      <td>0.000000</td>\n",
              "      <td>1.000000</td>\n",
              "      <td>0.000000</td>\n",
              "      <td>0.000000</td>\n",
              "      <td>100.000000</td>\n",
              "    </tr>\n",
              "    <tr>\n",
              "      <th>75%</th>\n",
              "      <td>2016.000000</td>\n",
              "      <td>0.000000</td>\n",
              "      <td>1.000000</td>\n",
              "      <td>0.000000</td>\n",
              "      <td>2.000000</td>\n",
              "      <td>0.000000</td>\n",
              "      <td>1.000000</td>\n",
              "      <td>100.000000</td>\n",
              "    </tr>\n",
              "    <tr>\n",
              "      <th>max</th>\n",
              "      <td>2018.000000</td>\n",
              "      <td>13.000000</td>\n",
              "      <td>23.000000</td>\n",
              "      <td>22.000000</td>\n",
              "      <td>49.000000</td>\n",
              "      <td>8.000000</td>\n",
              "      <td>7.000000</td>\n",
              "      <td>999.000000</td>\n",
              "    </tr>\n",
              "  </tbody>\n",
              "</table>\n",
              "</div>\n",
              "      <button class=\"colab-df-convert\" onclick=\"convertToInteractive('df-0d3c7738-1076-42e5-b6c6-60aa406353e3')\"\n",
              "              title=\"Convert this dataframe to an interactive table.\"\n",
              "              style=\"display:none;\">\n",
              "        \n",
              "  <svg xmlns=\"http://www.w3.org/2000/svg\" height=\"24px\"viewBox=\"0 0 24 24\"\n",
              "       width=\"24px\">\n",
              "    <path d=\"M0 0h24v24H0V0z\" fill=\"none\"/>\n",
              "    <path d=\"M18.56 5.44l.94 2.06.94-2.06 2.06-.94-2.06-.94-.94-2.06-.94 2.06-2.06.94zm-11 1L8.5 8.5l.94-2.06 2.06-.94-2.06-.94L8.5 2.5l-.94 2.06-2.06.94zm10 10l.94 2.06.94-2.06 2.06-.94-2.06-.94-.94-2.06-.94 2.06-2.06.94z\"/><path d=\"M17.41 7.96l-1.37-1.37c-.4-.4-.92-.59-1.43-.59-.52 0-1.04.2-1.43.59L10.3 9.45l-7.72 7.72c-.78.78-.78 2.05 0 2.83L4 21.41c.39.39.9.59 1.41.59.51 0 1.02-.2 1.41-.59l7.78-7.78 2.81-2.81c.8-.78.8-2.07 0-2.86zM5.41 20L4 18.59l7.72-7.72 1.47 1.35L5.41 20z\"/>\n",
              "  </svg>\n",
              "      </button>\n",
              "      \n",
              "  <style>\n",
              "    .colab-df-container {\n",
              "      display:flex;\n",
              "      flex-wrap:wrap;\n",
              "      gap: 12px;\n",
              "    }\n",
              "\n",
              "    .colab-df-convert {\n",
              "      background-color: #E8F0FE;\n",
              "      border: none;\n",
              "      border-radius: 50%;\n",
              "      cursor: pointer;\n",
              "      display: none;\n",
              "      fill: #1967D2;\n",
              "      height: 32px;\n",
              "      padding: 0 0 0 0;\n",
              "      width: 32px;\n",
              "    }\n",
              "\n",
              "    .colab-df-convert:hover {\n",
              "      background-color: #E2EBFA;\n",
              "      box-shadow: 0px 1px 2px rgba(60, 64, 67, 0.3), 0px 1px 3px 1px rgba(60, 64, 67, 0.15);\n",
              "      fill: #174EA6;\n",
              "    }\n",
              "\n",
              "    [theme=dark] .colab-df-convert {\n",
              "      background-color: #3B4455;\n",
              "      fill: #D2E3FC;\n",
              "    }\n",
              "\n",
              "    [theme=dark] .colab-df-convert:hover {\n",
              "      background-color: #434B5C;\n",
              "      box-shadow: 0px 1px 3px 1px rgba(0, 0, 0, 0.15);\n",
              "      filter: drop-shadow(0px 1px 2px rgba(0, 0, 0, 0.3));\n",
              "      fill: #FFFFFF;\n",
              "    }\n",
              "  </style>\n",
              "\n",
              "      <script>\n",
              "        const buttonEl =\n",
              "          document.querySelector('#df-0d3c7738-1076-42e5-b6c6-60aa406353e3 button.colab-df-convert');\n",
              "        buttonEl.style.display =\n",
              "          google.colab.kernel.accessAllowed ? 'block' : 'none';\n",
              "\n",
              "        async function convertToInteractive(key) {\n",
              "          const element = document.querySelector('#df-0d3c7738-1076-42e5-b6c6-60aa406353e3');\n",
              "          const dataTable =\n",
              "            await google.colab.kernel.invokeFunction('convertToInteractive',\n",
              "                                                     [key], {});\n",
              "          if (!dataTable) return;\n",
              "\n",
              "          const docLinkHtml = 'Like what you see? Visit the ' +\n",
              "            '<a target=\"_blank\" href=https://colab.research.google.com/notebooks/data_table.ipynb>data table notebook</a>'\n",
              "            + ' to learn more about interactive tables.';\n",
              "          element.innerHTML = '';\n",
              "          dataTable['output_type'] = 'display_data';\n",
              "          await google.colab.output.renderOutput(dataTable, element);\n",
              "          const docLink = document.createElement('div');\n",
              "          docLink.innerHTML = docLinkHtml;\n",
              "          element.appendChild(docLink);\n",
              "        }\n",
              "      </script>\n",
              "    </div>\n",
              "  </div>\n",
              "  "
            ]
          },
          "metadata": {},
          "execution_count": 11
        }
      ]
    },
    {
      "cell_type": "code",
      "source": [
        "acidentes.info()"
      ],
      "metadata": {
        "colab": {
          "base_uri": "https://localhost:8080/"
        },
        "id": "nmyHYYLD3vLf",
        "outputId": "ea4e96ba-afdb-4e03-8acb-f2e2dee75a7f"
      },
      "execution_count": 14,
      "outputs": [
        {
          "output_type": "stream",
          "name": "stdout",
          "text": [
            "<class 'pandas.core.frame.DataFrame'>\n",
            "RangeIndex: 16774 entries, 0 to 16773\n",
            "Data columns (total 9 columns):\n",
            " #   Column                     Non-Null Count  Dtype  \n",
            "---  ------                     --------------  -----  \n",
            " 0   Any                        16774 non-null  int64  \n",
            " 1   nomMun                     16774 non-null  object \n",
            " 2   F_MORTS                    16774 non-null  int64  \n",
            " 3   F_FERITS_GREUS             16774 non-null  int64  \n",
            " 4   F_FERITS_LLEUS             16774 non-null  int64  \n",
            " 5   F_VICTIMES                 16774 non-null  int64  \n",
            " 6   F_BICICLETES_IMPLICADES    16774 non-null  int64  \n",
            " 7   F_MOTOCICLETES_IMPLICADES  16774 non-null  int64  \n",
            " 8   C_VELOCITAT_VIA            14654 non-null  float64\n",
            "dtypes: float64(1), int64(7), object(1)\n",
            "memory usage: 1.2+ MB\n"
          ]
        }
      ]
    },
    {
      "cell_type": "code",
      "source": [
        "#Conferir os nomes das planilhas do arquivo excel\n",
        "dados.keys()"
      ],
      "metadata": {
        "colab": {
          "base_uri": "https://localhost:8080/"
        },
        "id": "vZnoxCee8NfT",
        "outputId": "adae2644-1efc-45eb-b866-5774cbc1ae22"
      },
      "execution_count": 18,
      "outputs": [
        {
          "output_type": "execute_result",
          "data": {
            "text/plain": [
              "Index(['Any', 'dat', 'nomMun', 'nomDem', 'F_MORTS', 'F_FERITS_GREUS',\n",
              "       'F_FERITS_LLEUS', 'F_VICTIMES', 'F_BICICLETES_IMPLICADES',\n",
              "       'F_MOTOCICLETES_IMPLICADES', 'C_VELOCITAT_VIA'],\n",
              "      dtype='object')"
            ]
          },
          "metadata": {},
          "execution_count": 18
        }
      ]
    },
    {
      "cell_type": "markdown",
      "source": [
        "#Medidas de dispersão \n",
        "\n",
        "#####As medidas de dispersão auxiliam as medidas de tendência central a descrever o conjunto de dados adequados. Indicam se os dados estão, ou não, próximos um dos outros.\n",
        "\n",
        "\n",
        "\n",
        "\t"
      ],
      "metadata": {
        "id": "SyfvaEkd7aLo"
      }
    },
    {
      "cell_type": "markdown",
      "source": [
        "####**Amplitude total**\n",
        "\n",
        "#####A amplitude total de um conjunto de dados é a diferença entre o maior e o menor valor observado\n"
      ],
      "metadata": {
        "id": "7f3OdEY_-a5t"
      }
    },
    {
      "cell_type": "code",
      "source": [
        "# Maior valor de acidentes com motocicletas \n",
        "acidentes['F_VICTIMES'].max() - acidentes['F_VICTIMES'].min()\n"
      ],
      "metadata": {
        "colab": {
          "base_uri": "https://localhost:8080/"
        },
        "id": "WyUmy3EF7js6",
        "outputId": "8b612768-8d00-47d5-a7ef-dfcd84a2bc39"
      },
      "execution_count": 45,
      "outputs": [
        {
          "output_type": "execute_result",
          "data": {
            "text/plain": [
              "48"
            ]
          },
          "metadata": {},
          "execution_count": 45
        }
      ]
    },
    {
      "cell_type": "markdown",
      "source": [
        "#####**A amplitude Interquatilica**\n",
        "\n",
        "####A amplitude interquartílica é a diferença entre o terceiro e o primeiro quartil. Esta medida é mais estável que a amplitude total por não considerar os valores mais extremos"
      ],
      "metadata": {
        "id": "O5M3waXN9PV7"
      }
    },
    {
      "cell_type": "code",
      "source": [
        "acidentes['F_VICTIMES'].describe()"
      ],
      "metadata": {
        "colab": {
          "base_uri": "https://localhost:8080/"
        },
        "id": "wyo-cCjA9z-I",
        "outputId": "cc91b706-1f6e-41a8-c201-374483f5dea6"
      },
      "execution_count": 33,
      "outputs": [
        {
          "output_type": "execute_result",
          "data": {
            "text/plain": [
              "count    16774.000000\n",
              "mean         1.550674\n",
              "std          1.225059\n",
              "min          1.000000\n",
              "25%          1.000000\n",
              "50%          1.000000\n",
              "75%          2.000000\n",
              "max         49.000000\n",
              "Name: F_VICTIMES, dtype: float64"
            ]
          },
          "metadata": {},
          "execution_count": 33
        }
      ]
    },
    {
      "cell_type": "code",
      "source": [
        "acidentes['F_VICTIMES'].describe()[6:7].values - acidentes['F_VICTIMES'].describe()[4:5].values"
      ],
      "metadata": {
        "colab": {
          "base_uri": "https://localhost:8080/"
        },
        "id": "F75LLp_qIEUy",
        "outputId": "e3c053f8-3bd2-450e-c997-fbbc4e0eb79d"
      },
      "execution_count": 34,
      "outputs": [
        {
          "output_type": "execute_result",
          "data": {
            "text/plain": [
              "array([1.])"
            ]
          },
          "metadata": {},
          "execution_count": 34
        }
      ]
    },
    {
      "cell_type": "markdown",
      "source": [
        "#### com esse valor de array de 1., a amplitude se torna menos sensível aos outlier, devidos o ajuste no quartil. "
      ],
      "metadata": {
        "id": "1Eth4rXzJBiE"
      }
    },
    {
      "cell_type": "code",
      "source": [
        "sns.boxplot(acidentes['F_VICTIMES'])"
      ],
      "metadata": {
        "colab": {
          "base_uri": "https://localhost:8080/",
          "height": 355
        },
        "id": "0gwIoN1TF_y4",
        "outputId": "85659636-8192-444f-e9a9-138a9d8e25cf"
      },
      "execution_count": 28,
      "outputs": [
        {
          "output_type": "stream",
          "name": "stderr",
          "text": [
            "/usr/local/lib/python3.7/dist-packages/seaborn/_decorators.py:43: FutureWarning: Pass the following variable as a keyword arg: x. From version 0.12, the only valid positional argument will be `data`, and passing other arguments without an explicit keyword will result in an error or misinterpretation.\n",
            "  FutureWarning\n"
          ]
        },
        {
          "output_type": "execute_result",
          "data": {
            "text/plain": [
              "<matplotlib.axes._subplots.AxesSubplot at 0x7f78e7907ed0>"
            ]
          },
          "metadata": {},
          "execution_count": 28
        },
        {
          "output_type": "display_data",
          "data": {
            "text/plain": [
              "<Figure size 432x288 with 1 Axes>"
            ],
            "image/png": "[encoded data removed]"
          },
          "metadata": {
            "needs_background": "light"
          }
        }
      ]
    },
    {
      "cell_type": "markdown",
      "source": [
        "#### com esse valor de array, a amplitude se torna menos sensível aos outlier"
      ],
      "metadata": {
        "id": "Bf1bPCp-ImbS"
      }
    },
    {
      "cell_type": "markdown",
      "source": [
        "### **Variância**\n",
        "\n",
        "##### Uma medida de dispersão que mostra quão distante os valores estão da média. \n"
      ],
      "metadata": {
        "id": "pyCFZWWuJXm8"
      }
    },
    {
      "cell_type": "code",
      "source": [
        "acidentes['F_VICTIMES'].var()"
      ],
      "metadata": {
        "colab": {
          "base_uri": "https://localhost:8080/"
        },
        "id": "vvfOH8ZqOQZ_",
        "outputId": "2b336e3d-dd6d-4d5d-dfb7-f276cb46f0fb"
      },
      "execution_count": 35,
      "outputs": [
        {
          "output_type": "execute_result",
          "data": {
            "text/plain": [
              "1.5007707260253806"
            ]
          },
          "metadata": {},
          "execution_count": 35
        }
      ]
    },
    {
      "cell_type": "markdown",
      "source": [
        "###**Desvio Padrão**\n",
        "\n",
        "##### É simplesmente o resultado positivo da raiz quadrada da variância. "
      ],
      "metadata": {
        "id": "LIpv7Y9qOelQ"
      }
    },
    {
      "cell_type": "code",
      "source": [
        "acidentes['F_VICTIMES'].std()"
      ],
      "metadata": {
        "colab": {
          "base_uri": "https://localhost:8080/"
        },
        "id": "m-bn5grVPjaS",
        "outputId": "d89416ef-c7b4-492a-98a2-0af4b4d8d1cf"
      },
      "execution_count": 36,
      "outputs": [
        {
          "output_type": "execute_result",
          "data": {
            "text/plain": [
              "1.2250594785664004"
            ]
          },
          "metadata": {},
          "execution_count": 36
        }
      ]
    },
    {
      "cell_type": "markdown",
      "source": [
        "###**Medidas de Assimetria**\n",
        "\n"
      ],
      "metadata": {
        "id": "eC_fU0K_Q44r"
      }
    },
    {
      "cell_type": "code",
      "source": [
        "# Esse comando nos ajuda a descobrir se os dados são simétricos, assimétrico negativo ou positivo.\n",
        "acidentes['F_VICTIMES'].skew()"
      ],
      "metadata": {
        "colab": {
          "base_uri": "https://localhost:8080/"
        },
        "id": "qrnE3BqXRN7A",
        "outputId": "3063c47f-f6e1-47df-ff85-b1c4058913dd"
      },
      "execution_count": 42,
      "outputs": [
        {
          "output_type": "execute_result",
          "data": {
            "text/plain": [
              "7.474354668893097"
            ]
          },
          "metadata": {},
          "execution_count": 42
        }
      ]
    },
    {
      "cell_type": "markdown",
      "source": [
        "###### Levando em consideração a variável escolhida, além do valor de 7.47 no teste, por ser maior que zero ela é assimétrica positiva. "
      ],
      "metadata": {
        "id": "hsU2YpKBSq_w"
      }
    },
    {
      "cell_type": "code",
      "source": [
        "sns.kdeplot(acidentes['F_VICTIMES']);"
      ],
      "metadata": {
        "colab": {
          "base_uri": "https://localhost:8080/",
          "height": 280
        },
        "id": "GgW-mmYORj89",
        "outputId": "21efda5a-aece-4439-fc07-00ca0dbb1fc0"
      },
      "execution_count": 43,
      "outputs": [
        {
          "output_type": "display_data",
          "data": {
            "text/plain": [
              "<Figure size 432x288 with 1 Axes>"
            ],
            "image/png": "[encoded data removed]"
          },
          "metadata": {
            "needs_background": "light"
          }
        }
      ]
    },
    {
      "cell_type": "markdown",
      "source": [
        "###**Medidas de Curtose**\n",
        "\n"
      ],
      "metadata": {
        "id": "s0qaDUSoTkYU"
      }
    },
    {
      "cell_type": "code",
      "source": [
        "acidentes['F_VICTIMES'].kurtosis()"
      ],
      "metadata": {
        "colab": {
          "base_uri": "https://localhost:8080/"
        },
        "id": "gQmMOjA-TrU3",
        "outputId": "a6e54ef8-9e94-4f4f-c0a8-7de91f640da9"
      },
      "execution_count": 44,
      "outputs": [
        {
          "output_type": "execute_result",
          "data": {
            "text/plain": [
              "170.28644408799693"
            ]
          },
          "metadata": {},
          "execution_count": 44
        }
      ]
    },
    {
      "cell_type": "markdown",
      "source": [
        "### Em virtude do valor 170.28 essa medida se mostra como Leptocúrtica, quando a distribuição apresenta uma curva ou frequência bastante fechada, com os dados fortemente concentrados em torno do seu eixo, consoante o gráfico acima. "
      ],
      "metadata": {
        "id": "TmXCOMJRUQh2"
      }
    },
    {
      "cell_type": "markdown",
      "source": [
        "#Conclusão\n"
      ],
      "metadata": {
        "id": "DC1vsFo0TnZx"
      }
    },
    {
      "cell_type": "markdown",
      "source": [
        "### Analisando os dados da amostra, conseguimos utilizar as medidas de dispersão para conseguir saber como os dados estão distribuídos e quão distante ele pode ser da média, após analisar as vítimas, eles demonstram uma assimétria positiva, além de uma medida leptocúrtica. "
      ],
      "metadata": {
        "id": "rvGhVSxnU9UA"
      }
    }
  ]
}