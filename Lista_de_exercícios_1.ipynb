{
  "nbformat": 4,
  "nbformat_minor": 0,
  "metadata": {
    "colab": {
      "name": "Lista de exercícios 1.ipynb",
      "provenance": []
    },
    "kernelspec": {
      "name": "python3",
      "display_name": "Python 3"
    },
    "language_info": {
      "name": "python"
    }
  },
  "cells": [
    {
      "cell_type": "markdown",
      "source": [
        "#Segunda Unidade\n",
        "##1º Lista de exercícios \n",
        "\n",
        "Exercícios com base na aula presencial do dia 09/05 e deverá ser enviado até domingo (15/05). Dessa maneira, vocês podem me enviar o link dessa lista respondida (lembrar de autorizar qualquer pessoa com link de visualizar) ou fazer o download do arquivo (Arquivo > Fazer download > Fazer download do .ibynb) e me enviar por e-mail. \n"
      ],
      "metadata": {
        "id": "nVoKMnfvI72n"
      }
    },
    {
      "cell_type": "code",
      "source": [
        "import pandas as pd "
      ],
      "metadata": {
        "id": "Ppt1MIpwtpLa"
      },
      "execution_count": 2,
      "outputs": []
    },
    {
      "cell_type": "code",
      "execution_count": 106,
      "metadata": {
        "id": "ZDmoaSRsItAx",
        "colab": {
          "base_uri": "https://localhost:8080/"
        },
        "outputId": "dd4d4a7e-d24f-4967-a08c-62e0131e5543"
      },
      "outputs": [
        {
          "output_type": "execute_result",
          "data": {
            "text/plain": [
              "0     1\n",
              "1     2\n",
              "2     3\n",
              "3     4\n",
              "4     5\n",
              "5     6\n",
              "6     7\n",
              "7     8\n",
              "8     9\n",
              "9    10\n",
              "Name: lista, dtype: int64"
            ]
          },
          "metadata": {},
          "execution_count": 106
        }
      ],
      "source": [
        "# Exercício 1 - Imprima na tela os números de 1 a 10. Use uma lista para armazenar os números.\n",
        "dados = pd.read_excel('/content/Lista 1 a 10.xlsx')\n",
        "\n",
        "dados['lista']\n"
      ]
    },
    {
      "cell_type": "code",
      "source": [
        "# Exercício 2 - Crie uma lista de 5 objetos e imprima na tela\n",
        "Compras = ['Carro','casa','mobilia','moto','bicicleta']"
      ],
      "metadata": {
        "id": "RFab4ia4OU_I"
      },
      "execution_count": 8,
      "outputs": []
    },
    {
      "cell_type": "code",
      "source": [
        "Compras "
      ],
      "metadata": {
        "colab": {
          "base_uri": "https://localhost:8080/"
        },
        "id": "T2tXSgjDwOcw",
        "outputId": "5d1a61ea-f4c2-4ee2-f9f2-d559da148805"
      },
      "execution_count": 11,
      "outputs": [
        {
          "output_type": "execute_result",
          "data": {
            "text/plain": [
              "['Carro', 'casa', 'mobilia', 'moto', 'bicicleta']"
            ]
          },
          "metadata": {},
          "execution_count": 11
        }
      ]
    },
    {
      "cell_type": "code",
      "source": [
        "# Exercício 3 - Crie duas strings e concatene as duas em uma terceira string (com um espaço entre elas)\n"
      ],
      "metadata": {
        "id": "vDvKHdX_OZcI"
      },
      "execution_count": null,
      "outputs": []
    },
    {
      "cell_type": "code",
      "source": [
        "str = \"casa\"\n",
        "str += \" da moeda\"\n",
        "str"
      ],
      "metadata": {
        "colab": {
          "base_uri": "https://localhost:8080/",
          "height": 35
        },
        "id": "y2OJRuJrxSNG",
        "outputId": "5bdc4d98-02bb-49da-d4fe-e7fcf332ad6d"
      },
      "execution_count": 14,
      "outputs": [
        {
          "output_type": "execute_result",
          "data": {
            "text/plain": [
              "'casa da moeda'"
            ],
            "application/vnd.google.colaboratory.intrinsic+json": {
              "type": "string"
            }
          },
          "metadata": {},
          "execution_count": 14
        }
      ]
    },
    {
      "cell_type": "code",
      "source": [
        "# Exercício 4 - Crie uma lista de 4 elementos. O primeiro elemento deve ser uma string, \n",
        "# o segundo um inteiro, o terceiro um float e quarto um booleano.\n",
        "# Imprima a lista na tela."
      ],
      "metadata": {
        "id": "QYTz08AqOfat"
      },
      "execution_count": null,
      "outputs": []
    },
    {
      "cell_type": "code",
      "source": [
        " str1 = \"lindo\"\n",
        " x = 4\n",
        " y = 0.5\n",
        " Mariano = [10,9,8]\n",
        " mariano = [str1,x,y, Mariano is 1]\n",
        " mariano"
      ],
      "metadata": {
        "colab": {
          "base_uri": "https://localhost:8080/"
        },
        "id": "MU6r0K3TzjqQ",
        "outputId": "a27ea7ad-bee2-4835-d43b-d39135690e12"
      },
      "execution_count": 24,
      "outputs": [
        {
          "output_type": "execute_result",
          "data": {
            "text/plain": [
              "['lindo', 4, 0.5, False]"
            ]
          },
          "metadata": {},
          "execution_count": 24
        }
      ]
    },
    {
      "cell_type": "code",
      "source": [
        "# Exercício 5 - Considere a string abaixo. Imprima na tela apenas o nome \"atuaria\".\n",
        "curso = \"ciências atuariais\"\n",
        "curso [9:16]"
      ],
      "metadata": {
        "id": "mMX_QUOHOzPH",
        "colab": {
          "base_uri": "https://localhost:8080/",
          "height": 35
        },
        "outputId": "97750c8f-a449-410d-bb95-362ff68c64ee"
      },
      "execution_count": 33,
      "outputs": [
        {
          "output_type": "execute_result",
          "data": {
            "text/plain": [
              "'atuaria'"
            ],
            "application/vnd.google.colaboratory.intrinsic+json": {
              "type": "string"
            }
          },
          "metadata": {},
          "execution_count": 33
        }
      ]
    },
    {
      "cell_type": "code",
      "source": [
        "# Exercício 6 - Crie uma variável tipo inteira e converta para tipo float.\n",
        "inteiro = 3\n",
        "print(f'O número com floot é {inteiro:.2f}')"
      ],
      "metadata": {
        "id": "SPnxIsk5PCKF",
        "colab": {
          "base_uri": "https://localhost:8080/"
        },
        "outputId": "ffedbd72-77cc-4ed7-f79e-3e603c60f6db"
      },
      "execution_count": 96,
      "outputs": [
        {
          "output_type": "stream",
          "name": "stdout",
          "text": [
            "O número com floot é 3.00\n"
          ]
        }
      ]
    },
    {
      "cell_type": "code",
      "source": [
        "# Exercício 7 - Faça uma divisão retorando um número inteiro como resultado\n",
        "x= 20\n",
        "y=2\n",
        "x/y"
      ],
      "metadata": {
        "id": "qIuT8G9SXbFg",
        "colab": {
          "base_uri": "https://localhost:8080/"
        },
        "outputId": "3e66f2ce-0963-4523-f40e-ba64b4b81dff"
      },
      "execution_count": 87,
      "outputs": [
        {
          "output_type": "execute_result",
          "data": {
            "text/plain": [
              "10.0"
            ]
          },
          "metadata": {},
          "execution_count": 87
        }
      ]
    },
    {
      "cell_type": "code",
      "source": [
        "# Exercício 8 - Imprima a frase \"Palmeiras não tem mundial\" cinco vezes, através de código e sem digitar mais de uma vez a frase. \n",
        "for i in range(5):\n",
        "\tprint (\" Palmeiras não tem mundial\")"
      ],
      "metadata": {
        "id": "nPPJFNCePqVV",
        "colab": {
          "base_uri": "https://localhost:8080/"
        },
        "outputId": "c663adf9-5494-42c5-dc5a-40807f30d4d2"
      },
      "execution_count": 85,
      "outputs": [
        {
          "output_type": "stream",
          "name": "stdout",
          "text": [
            " Palmeiras não tem mundial\n",
            " Palmeiras não tem mundial\n",
            " Palmeiras não tem mundial\n",
            " Palmeiras não tem mundial\n",
            " Palmeiras não tem mundial\n"
          ]
        }
      ]
    },
    {
      "cell_type": "code",
      "source": [
        "# Exercício 9 - Crie cada uma das 5 classes de variaveis ensinadas e imprima o tipo da variavel (sem escrever o nome da variável).\n",
        "x = 8\n",
        "y = 9.5\n",
        "z = [\"é feio\"]\n",
        "mariano = [5,6,7]\n",
        "Marianoneto = [x,y,z, mariano is 1]\n",
        "\n",
        "Marianoneto"
      ],
      "metadata": {
        "id": "apbbPBGvTv5V",
        "colab": {
          "base_uri": "https://localhost:8080/"
        },
        "outputId": "a42e0c6e-d270-43f7-e4b5-dd18688da855"
      },
      "execution_count": 122,
      "outputs": [
        {
          "output_type": "execute_result",
          "data": {
            "text/plain": [
              "[8, 9.5, ['é feio'], False]"
            ]
          },
          "metadata": {},
          "execution_count": 122
        }
      ]
    },
    {
      "cell_type": "code",
      "source": [
        "# Exercício 10 - Dada a lista de compras abaixo, substitua maças por bananas \n",
        "listadomercado = [\"ovos\", \"farinha\", \"leite\", \"maças\"]\n",
        "listadomercado[3] = \"bananas\" \n",
        "print(listadomercado)"
      ],
      "metadata": {
        "id": "Wfp2TNc-QMC3",
        "colab": {
          "base_uri": "https://localhost:8080/"
        },
        "outputId": "1362cb60-a14f-4870-a763-56c3dc842fde"
      },
      "execution_count": 63,
      "outputs": [
        {
          "output_type": "stream",
          "name": "stdout",
          "text": [
            "['ovos', 'farinha', 'leite', 'bananas']\n"
          ]
        }
      ]
    },
    {
      "cell_type": "code",
      "source": [
        "# Exercício 11 - Print a lista de compras abaixo, sem o item \"ovos\" \n",
        "listadomercado = [\"ovos\", \"farinha\", \"leite\", \"maças\"]\n",
        "listadomercado.pop(0)\n",
        "print(listadomercado)\n"
      ],
      "metadata": {
        "colab": {
          "base_uri": "https://localhost:8080/"
        },
        "id": "kiDNtks_COu0",
        "outputId": "2933f2bc-a3dc-487f-a15b-4e9e8f40cbe3"
      },
      "execution_count": 81,
      "outputs": [
        {
          "output_type": "stream",
          "name": "stdout",
          "text": [
            "['farinha', 'leite', 'maças']\n"
          ]
        }
      ]
    },
    {
      "cell_type": "code",
      "source": [
        "# Exercício 12 - Dada a lista de compras abaixo, adicione cerveja, carne e carvão (#sextou) e imprima a nova lista.\n",
        "listadomercado = [\"ovos\", \"farinha\", \"leite\", \"maças\"]\n",
        "listadomercado += [\"cerveja\", \"carne\", \"carvão\", \"#sextou\"]\n",
        "print(listadomercado)\n",
        "\n",
        "\n"
      ],
      "metadata": {
        "id": "Ysb9Hj1QSN5U",
        "colab": {
          "base_uri": "https://localhost:8080/"
        },
        "outputId": "ed91e186-8b31-4c36-c0e0-4a06d9eaed4b"
      },
      "execution_count": 66,
      "outputs": [
        {
          "output_type": "stream",
          "name": "stdout",
          "text": [
            "['ovos', 'farinha', 'leite', 'maças', 'cerveja', 'carne', 'carvão', '#sextou']\n"
          ]
        }
      ]
    },
    {
      "cell_type": "code",
      "source": [
        "# Exercício 13 - Print a lista de compras abaixo, sem o item \"farinha\" \n",
        "listadomercado = [\"ovos\", \"farinha\", \"leite\", \"maças\"]\n",
        "listadomercado.pop(1)\n",
        "print(listadomercado)"
      ],
      "metadata": {
        "id": "143bXMzWTeVo",
        "colab": {
          "base_uri": "https://localhost:8080/"
        },
        "outputId": "a5313733-2ac6-43e4-b3b1-80915030d796"
      },
      "execution_count": 82,
      "outputs": [
        {
          "output_type": "stream",
          "name": "stdout",
          "text": [
            "['ovos', 'leite', 'maças']\n"
          ]
        }
      ]
    },
    {
      "cell_type": "code",
      "source": [
        "# Exercício 14 - Arredonde a variável x para 1.\n",
        "x = 9 / 10\n",
        "print(round(x))\n"
      ],
      "metadata": {
        "id": "wNDwedAgX3AW",
        "colab": {
          "base_uri": "https://localhost:8080/"
        },
        "outputId": "9881e31c-500b-4b8d-8d7f-bf541ceaf60d"
      },
      "execution_count": 84,
      "outputs": [
        {
          "output_type": "stream",
          "name": "stdout",
          "text": [
            "1\n"
          ]
        }
      ]
    }
  ]
}